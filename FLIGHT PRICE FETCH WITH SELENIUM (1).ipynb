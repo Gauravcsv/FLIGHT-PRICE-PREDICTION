{
 "cells": [
  {
   "cell_type": "code",
   "execution_count": 1,
   "id": "39a6251e",
   "metadata": {},
   "outputs": [],
   "source": [
    "import selenium\n",
    "from selenium import webdriver\n",
    "import pandas as pd\n",
    "from selenium.webdriver.common.by import By\n",
    "import time\n",
    "from bs4 import BeautifulSoup\n",
    "\n",
    "from selenium.common.exceptions import StaleElementReferenceException, NoSuchElementException\n",
    "\n",
    "import requests\n",
    "\n",
    "import re\n",
    "from selenium.webdriver.common.by import By\n",
    "\n",
    "import warnings\n",
    "warnings.filterwarnings('ignore')"
   ]
  },
  {
   "cell_type": "code",
   "execution_count": 2,
   "id": "a6f3b288",
   "metadata": {},
   "outputs": [],
   "source": [
    "driver = webdriver.Chrome(\"C:\\chromedriver.exe\")"
   ]
  },
  {
   "cell_type": "code",
   "execution_count": 3,
   "id": "3c67e6b4",
   "metadata": {},
   "outputs": [],
   "source": [
    "url = \"https://www.makemytrip.com/flight/search?itinerary=DEL-NYC-13/10/2022&tripType=O&paxType=A-1_C-0_I-0&intl=true&cabinClass=E&ccde=IN&lang=eng\"\n",
    "driver.get(url)"
   ]
  },
  {
   "cell_type": "code",
   "execution_count": 4,
   "id": "81d9d8d1",
   "metadata": {},
   "outputs": [],
   "source": [
    "name = []\n",
    "pro = driver.find_elements(By.XPATH,'//p[@class=\"boldFont blackText airlineName\"]')\n",
    "for i in pro:\n",
    "    name.append(i.text)\n",
    "        "
   ]
  },
  {
   "cell_type": "code",
   "execution_count": 5,
   "id": "66a8a385",
   "metadata": {},
   "outputs": [
    {
     "data": {
      "text/plain": [
       "0"
      ]
     },
     "execution_count": 5,
     "metadata": {},
     "output_type": "execute_result"
    }
   ],
   "source": [
    "len(name)"
   ]
  },
  {
   "cell_type": "code",
   "execution_count": 6,
   "id": "5678ba10",
   "metadata": {},
   "outputs": [
    {
     "data": {
      "text/plain": [
       "[]"
      ]
     },
     "execution_count": 6,
     "metadata": {},
     "output_type": "execute_result"
    }
   ],
   "source": [
    "name"
   ]
  },
  {
   "cell_type": "code",
   "execution_count": 7,
   "id": "6af60d30",
   "metadata": {},
   "outputs": [],
   "source": [
    "dep = []\n",
    "pro = driver.find_elements(By.XPATH,'//div[@class=\"flexOne timeInfoLeft\"]')\n",
    "for i in pro:\n",
    "    dep.append(i.text[0:5])\n",
    "        "
   ]
  },
  {
   "cell_type": "code",
   "execution_count": 8,
   "id": "5b2f610a",
   "metadata": {},
   "outputs": [
    {
     "data": {
      "text/plain": [
       "0"
      ]
     },
     "execution_count": 8,
     "metadata": {},
     "output_type": "execute_result"
    }
   ],
   "source": [
    "len(dep)"
   ]
  },
  {
   "cell_type": "code",
   "execution_count": 9,
   "id": "ed3bc826",
   "metadata": {},
   "outputs": [
    {
     "data": {
      "text/plain": [
       "[]"
      ]
     },
     "execution_count": 9,
     "metadata": {},
     "output_type": "execute_result"
    }
   ],
   "source": [
    "dep"
   ]
  },
  {
   "cell_type": "code",
   "execution_count": 10,
   "id": "c73d1900",
   "metadata": {},
   "outputs": [],
   "source": [
    "arri = []\n",
    "pro = driver.find_elements(By.XPATH,'//div[@class=\"flexOne timeInfoRight\"]')\n",
    "for i in pro:\n",
    "    arri.append(i.text[0:5])\n",
    "        \n",
    " "
   ]
  },
  {
   "cell_type": "code",
   "execution_count": 11,
   "id": "a4a153ea",
   "metadata": {},
   "outputs": [
    {
     "data": {
      "text/plain": [
       "0"
      ]
     },
     "execution_count": 11,
     "metadata": {},
     "output_type": "execute_result"
    }
   ],
   "source": [
    "len(arri)"
   ]
  },
  {
   "cell_type": "code",
   "execution_count": 12,
   "id": "9c57ed41",
   "metadata": {},
   "outputs": [
    {
     "data": {
      "text/plain": [
       "[]"
      ]
     },
     "execution_count": 12,
     "metadata": {},
     "output_type": "execute_result"
    }
   ],
   "source": [
    "arri"
   ]
  },
  {
   "cell_type": "code",
   "execution_count": 13,
   "id": "1f34557a",
   "metadata": {},
   "outputs": [],
   "source": [
    "sou = []\n",
    "pro = driver.find_elements(By.XPATH,'//div[@class=\"flexOne timeInfoLeft\"]')\n",
    "for i in pro:\n",
    "    sou.append(i.text[6:])\n",
    "        "
   ]
  },
  {
   "cell_type": "code",
   "execution_count": 14,
   "id": "6a658b29",
   "metadata": {},
   "outputs": [
    {
     "data": {
      "text/plain": [
       "0"
      ]
     },
     "execution_count": 14,
     "metadata": {},
     "output_type": "execute_result"
    }
   ],
   "source": [
    "len(sou)"
   ]
  },
  {
   "cell_type": "code",
   "execution_count": 15,
   "id": "6442c821",
   "metadata": {},
   "outputs": [
    {
     "data": {
      "text/plain": [
       "[]"
      ]
     },
     "execution_count": 15,
     "metadata": {},
     "output_type": "execute_result"
    }
   ],
   "source": [
    "sou"
   ]
  },
  {
   "cell_type": "code",
   "execution_count": 16,
   "id": "1dacfc47",
   "metadata": {},
   "outputs": [],
   "source": [
    "Desti = []\n",
    "pro = driver.find_elements(By.XPATH,'//div[@class=\"flexOne timeInfoRight\"]')\n",
    "for i in pro:\n",
    "    Desti.append(i.text[6:])\n",
    "        "
   ]
  },
  {
   "cell_type": "code",
   "execution_count": 17,
   "id": "6c4a4cd0",
   "metadata": {},
   "outputs": [
    {
     "data": {
      "text/plain": [
       "0"
      ]
     },
     "execution_count": 17,
     "metadata": {},
     "output_type": "execute_result"
    }
   ],
   "source": [
    "len(Desti)"
   ]
  },
  {
   "cell_type": "code",
   "execution_count": 18,
   "id": "c4e6db1d",
   "metadata": {},
   "outputs": [
    {
     "data": {
      "text/plain": [
       "[]"
      ]
     },
     "execution_count": 18,
     "metadata": {},
     "output_type": "execute_result"
    }
   ],
   "source": [
    "Desti"
   ]
  },
  {
   "cell_type": "code",
   "execution_count": 19,
   "id": "6341cc36",
   "metadata": {},
   "outputs": [],
   "source": [
    "stop = []\n",
    "pro = driver.find_elements(By.XPATH,'//p[@class=\"flightsLayoverInfo\"]')\n",
    "for i in pro:\n",
    "    stop.append(i.text[0:7])\n",
    "        "
   ]
  },
  {
   "cell_type": "code",
   "execution_count": 20,
   "id": "abf0a8a7",
   "metadata": {},
   "outputs": [
    {
     "data": {
      "text/plain": [
       "0"
      ]
     },
     "execution_count": 20,
     "metadata": {},
     "output_type": "execute_result"
    }
   ],
   "source": [
    "len(stop)"
   ]
  },
  {
   "cell_type": "code",
   "execution_count": 21,
   "id": "0de6b4ab",
   "metadata": {},
   "outputs": [
    {
     "data": {
      "text/plain": [
       "[]"
      ]
     },
     "execution_count": 21,
     "metadata": {},
     "output_type": "execute_result"
    }
   ],
   "source": [
    "stop"
   ]
  },
  {
   "cell_type": "code",
   "execution_count": 22,
   "id": "91694ac2",
   "metadata": {},
   "outputs": [],
   "source": [
    "air = []\n",
    "pro = driver.find_elements(By.XPATH,'//p[@class=\"flightsLayoverInfo\"]')\n",
    "for i in pro:\n",
    "    air.append(i.text[11:])\n",
    "        \n",
    " "
   ]
  },
  {
   "cell_type": "code",
   "execution_count": 23,
   "id": "0a739d97",
   "metadata": {},
   "outputs": [
    {
     "data": {
      "text/plain": [
       "[]"
      ]
     },
     "execution_count": 23,
     "metadata": {},
     "output_type": "execute_result"
    }
   ],
   "source": [
    "air"
   ]
  },
  {
   "cell_type": "code",
   "execution_count": 24,
   "id": "9a525b96",
   "metadata": {},
   "outputs": [],
   "source": [
    "tot = []\n",
    "pro = driver.find_elements(By.XPATH,'//div[@class=\"stop-info flexOne\"]')\n",
    "for i in pro:\n",
    "    tot.append(i.text[0:7])"
   ]
  },
  {
   "cell_type": "code",
   "execution_count": 25,
   "id": "31a6fbd1",
   "metadata": {},
   "outputs": [
    {
     "data": {
      "text/plain": [
       "0"
      ]
     },
     "execution_count": 25,
     "metadata": {},
     "output_type": "execute_result"
    }
   ],
   "source": [
    "len(tot)"
   ]
  },
  {
   "cell_type": "code",
   "execution_count": 26,
   "id": "7c2f4e5b",
   "metadata": {},
   "outputs": [
    {
     "data": {
      "text/plain": [
       "[]"
      ]
     },
     "execution_count": 26,
     "metadata": {},
     "output_type": "execute_result"
    }
   ],
   "source": [
    "tot"
   ]
  },
  {
   "cell_type": "code",
   "execution_count": 27,
   "id": "6e9c96ac",
   "metadata": {},
   "outputs": [],
   "source": [
    "pri = []\n",
    "pro = driver.find_elements(By.XPATH,'//p[@class=\"blackText fontSize18 blackFont white-space-no-wrap\"]')\n",
    "for i in pro:\n",
    "    pri.append(i.text[0:10])"
   ]
  },
  {
   "cell_type": "code",
   "execution_count": 28,
   "id": "341f0fda",
   "metadata": {},
   "outputs": [
    {
     "data": {
      "text/plain": [
       "[]"
      ]
     },
     "execution_count": 28,
     "metadata": {},
     "output_type": "execute_result"
    }
   ],
   "source": [
    "pri"
   ]
  },
  {
   "cell_type": "code",
   "execution_count": 29,
   "id": "9f7a7d87",
   "metadata": {},
   "outputs": [
    {
     "data": {
      "text/plain": [
       "0"
      ]
     },
     "execution_count": 29,
     "metadata": {},
     "output_type": "execute_result"
    }
   ],
   "source": [
    "len(pri)"
   ]
  },
  {
   "cell_type": "code",
   "execution_count": 30,
   "id": "9818476a",
   "metadata": {},
   "outputs": [],
   "source": [
    "dat = []\n",
    "pro = driver.find_elements(By.XPATH,'//div[@class=\"DayPicker-Caption\"]')\n",
    "for i in pro[0:1]:\n",
    "    dat.append(i.text)"
   ]
  },
  {
   "cell_type": "code",
   "execution_count": 31,
   "id": "0505e097",
   "metadata": {},
   "outputs": [
    {
     "data": {
      "text/plain": [
       "[]"
      ]
     },
     "execution_count": 31,
     "metadata": {},
     "output_type": "execute_result"
    }
   ],
   "source": [
    "dat"
   ]
  },
  {
   "cell_type": "code",
   "execution_count": 32,
   "id": "c5128932",
   "metadata": {},
   "outputs": [],
   "source": [
    "dat.insert(0,7)"
   ]
  },
  {
   "cell_type": "code",
   "execution_count": 33,
   "id": "c63a435d",
   "metadata": {},
   "outputs": [
    {
     "data": {
      "text/plain": [
       "[7]"
      ]
     },
     "execution_count": 33,
     "metadata": {},
     "output_type": "execute_result"
    }
   ],
   "source": [
    "dat"
   ]
  },
  {
   "cell_type": "code",
   "execution_count": 34,
   "id": "ee471f0e",
   "metadata": {},
   "outputs": [],
   "source": [
    "dat = dat*10"
   ]
  },
  {
   "cell_type": "code",
   "execution_count": 35,
   "id": "8aecf26b",
   "metadata": {},
   "outputs": [
    {
     "name": "stdout",
     "output_type": "stream",
     "text": [
      "[7, 7, 7, 7, 7, 7, 7, 7, 7, 7]\n"
     ]
    }
   ],
   "source": [
    "print(dat)"
   ]
  },
  {
   "cell_type": "code",
   "execution_count": 36,
   "id": "808ce583",
   "metadata": {},
   "outputs": [
    {
     "data": {
      "text/plain": [
       "10"
      ]
     },
     "execution_count": 36,
     "metadata": {},
     "output_type": "execute_result"
    }
   ],
   "source": [
    "len(dat)"
   ]
  },
  {
   "cell_type": "code",
   "execution_count": 37,
   "id": "698561c1",
   "metadata": {},
   "outputs": [
    {
     "data": {
      "text/plain": [
       "[7, 7, 7, 7, 7, 7, 7, 7, 7, 7]"
      ]
     },
     "execution_count": 37,
     "metadata": {},
     "output_type": "execute_result"
    }
   ],
   "source": [
    "dat"
   ]
  },
  {
   "cell_type": "raw",
   "id": "45658159",
   "metadata": {},
   "source": [
    "LETS FETCH MORE DATA FROM DIFF SOURCE AND DIFF DATE"
   ]
  },
  {
   "cell_type": "code",
   "execution_count": 38,
   "id": "ed7cf69e",
   "metadata": {},
   "outputs": [],
   "source": [
    "url = \"https://www.makemytrip.com/flight/search?tripType=O&itinerary=DEL-DXB-18/11/2022&paxType=A-1_C-0_I-0&cabinClass=E&sTime=1663834132363&forwardFlowRequired=true&mpo=&semType=&intl=true\"\n",
    "driver.get(url)"
   ]
  },
  {
   "cell_type": "code",
   "execution_count": 39,
   "id": "3336432d",
   "metadata": {},
   "outputs": [],
   "source": [
    "names = []\n",
    "pro = driver.find_elements(By.XPATH,'//p[@class=\"boldFont blackText airlineName\"]')\n",
    "for i in pro:\n",
    "    names.append(i.text)\n",
    "        "
   ]
  },
  {
   "cell_type": "code",
   "execution_count": 40,
   "id": "2f132570",
   "metadata": {},
   "outputs": [
    {
     "data": {
      "text/plain": [
       "0"
      ]
     },
     "execution_count": 40,
     "metadata": {},
     "output_type": "execute_result"
    }
   ],
   "source": [
    "len(names)"
   ]
  },
  {
   "cell_type": "code",
   "execution_count": 41,
   "id": "7c088420",
   "metadata": {},
   "outputs": [
    {
     "name": "stdout",
     "output_type": "stream",
     "text": [
      "[]\n"
     ]
    }
   ],
   "source": [
    "print(names)"
   ]
  },
  {
   "cell_type": "code",
   "execution_count": 42,
   "id": "089a21f9",
   "metadata": {},
   "outputs": [],
   "source": [
    "deps = []\n",
    "pro = driver.find_elements(By.XPATH,'//div[@class=\"flexOne timeInfoLeft\"]')\n",
    "for i in pro:\n",
    "    deps.append(i.text[0:5])"
   ]
  },
  {
   "cell_type": "code",
   "execution_count": 43,
   "id": "b6e350b2",
   "metadata": {},
   "outputs": [
    {
     "data": {
      "text/plain": [
       "0"
      ]
     },
     "execution_count": 43,
     "metadata": {},
     "output_type": "execute_result"
    }
   ],
   "source": [
    "len(deps)"
   ]
  },
  {
   "cell_type": "code",
   "execution_count": 44,
   "id": "8308c65d",
   "metadata": {},
   "outputs": [
    {
     "data": {
      "text/plain": [
       "[]"
      ]
     },
     "execution_count": 44,
     "metadata": {},
     "output_type": "execute_result"
    }
   ],
   "source": [
    "deps"
   ]
  },
  {
   "cell_type": "code",
   "execution_count": 45,
   "id": "f70a7fa7",
   "metadata": {},
   "outputs": [],
   "source": [
    "arriv = []\n",
    "pro = driver.find_elements(By.XPATH,'//div[@class=\"flexOne timeInfoRight\"]')\n",
    "for i in pro:\n",
    "    arriv.append(i.text[0:5])"
   ]
  },
  {
   "cell_type": "code",
   "execution_count": 46,
   "id": "fec3056e",
   "metadata": {},
   "outputs": [
    {
     "data": {
      "text/plain": [
       "0"
      ]
     },
     "execution_count": 46,
     "metadata": {},
     "output_type": "execute_result"
    }
   ],
   "source": [
    "len(arriv)"
   ]
  },
  {
   "cell_type": "code",
   "execution_count": 47,
   "id": "7e7a5c31",
   "metadata": {},
   "outputs": [
    {
     "data": {
      "text/plain": [
       "[]"
      ]
     },
     "execution_count": 47,
     "metadata": {},
     "output_type": "execute_result"
    }
   ],
   "source": [
    "arriv"
   ]
  },
  {
   "cell_type": "code",
   "execution_count": 48,
   "id": "f19c6d7f",
   "metadata": {},
   "outputs": [],
   "source": [
    "sour = []\n",
    "pro = driver.find_elements(By.XPATH,'//div[@class=\"flexOne timeInfoLeft\"]')\n",
    "for i in pro:\n",
    "    sour.append(i.text[6:])"
   ]
  },
  {
   "cell_type": "code",
   "execution_count": 49,
   "id": "9bc78980",
   "metadata": {},
   "outputs": [
    {
     "data": {
      "text/plain": [
       "0"
      ]
     },
     "execution_count": 49,
     "metadata": {},
     "output_type": "execute_result"
    }
   ],
   "source": [
    "len(sour)"
   ]
  },
  {
   "cell_type": "code",
   "execution_count": 50,
   "id": "bba35798",
   "metadata": {},
   "outputs": [
    {
     "data": {
      "text/plain": [
       "[]"
      ]
     },
     "execution_count": 50,
     "metadata": {},
     "output_type": "execute_result"
    }
   ],
   "source": [
    "sour"
   ]
  },
  {
   "cell_type": "code",
   "execution_count": 51,
   "id": "43246cd4",
   "metadata": {},
   "outputs": [],
   "source": [
    "Destin = []\n",
    "pro = driver.find_elements(By.XPATH,'//div[@class=\"flexOne timeInfoRight\"]')\n",
    "for i in pro:\n",
    "    Destin.append(i.text[6:20])\n",
    "        \n",
    " "
   ]
  },
  {
   "cell_type": "code",
   "execution_count": 52,
   "id": "ff74ea3b",
   "metadata": {},
   "outputs": [
    {
     "data": {
      "text/plain": [
       "0"
      ]
     },
     "execution_count": 52,
     "metadata": {},
     "output_type": "execute_result"
    }
   ],
   "source": [
    "len(Destin)"
   ]
  },
  {
   "cell_type": "code",
   "execution_count": 53,
   "id": "52929c84",
   "metadata": {},
   "outputs": [
    {
     "data": {
      "text/plain": [
       "[]"
      ]
     },
     "execution_count": 53,
     "metadata": {},
     "output_type": "execute_result"
    }
   ],
   "source": [
    "Destin"
   ]
  },
  {
   "cell_type": "code",
   "execution_count": 54,
   "id": "5339b3e2",
   "metadata": {},
   "outputs": [],
   "source": [
    "stops = []\n",
    "pro = driver.find_elements(By.XPATH,'//p[@class=\"flightsLayoverInfo\"]')\n",
    "for i in pro:\n",
    "    stops.append(i.text[0:7])\n",
    "        "
   ]
  },
  {
   "cell_type": "code",
   "execution_count": 55,
   "id": "d18e40ba",
   "metadata": {},
   "outputs": [
    {
     "data": {
      "text/plain": [
       "0"
      ]
     },
     "execution_count": 55,
     "metadata": {},
     "output_type": "execute_result"
    }
   ],
   "source": [
    "len(stops)"
   ]
  },
  {
   "cell_type": "code",
   "execution_count": 56,
   "id": "f8ac9e8f",
   "metadata": {},
   "outputs": [
    {
     "data": {
      "text/plain": [
       "[]"
      ]
     },
     "execution_count": 56,
     "metadata": {},
     "output_type": "execute_result"
    }
   ],
   "source": [
    "stops"
   ]
  },
  {
   "cell_type": "code",
   "execution_count": 57,
   "id": "fc8bd3d5",
   "metadata": {},
   "outputs": [],
   "source": [
    "airl = []\n",
    "pro = driver.find_elements(By.XPATH,'//p[@class=\"flightsLayoverInfo\"]')\n",
    "for i in pro:\n",
    "    airl.append(i.text[11:])\n",
    "        "
   ]
  },
  {
   "cell_type": "code",
   "execution_count": 58,
   "id": "d6b72ab3",
   "metadata": {},
   "outputs": [
    {
     "data": {
      "text/plain": [
       "0"
      ]
     },
     "execution_count": 58,
     "metadata": {},
     "output_type": "execute_result"
    }
   ],
   "source": [
    "len(airl)"
   ]
  },
  {
   "cell_type": "code",
   "execution_count": 59,
   "id": "30162c70",
   "metadata": {},
   "outputs": [
    {
     "data": {
      "text/plain": [
       "[]"
      ]
     },
     "execution_count": 59,
     "metadata": {},
     "output_type": "execute_result"
    }
   ],
   "source": [
    "airl"
   ]
  },
  {
   "cell_type": "code",
   "execution_count": 60,
   "id": "f52799ed",
   "metadata": {},
   "outputs": [],
   "source": [
    "tota = []\n",
    "pro = driver.find_elements(By.XPATH,'//div[@class=\"stop-info flexOne\"]')\n",
    "for i in pro:\n",
    "    tota.append(i.text[0:7])"
   ]
  },
  {
   "cell_type": "code",
   "execution_count": 61,
   "id": "35201dc0",
   "metadata": {},
   "outputs": [
    {
     "data": {
      "text/plain": [
       "0"
      ]
     },
     "execution_count": 61,
     "metadata": {},
     "output_type": "execute_result"
    }
   ],
   "source": [
    "len(tota)"
   ]
  },
  {
   "cell_type": "code",
   "execution_count": 62,
   "id": "9e8aa8de",
   "metadata": {},
   "outputs": [
    {
     "data": {
      "text/plain": [
       "[]"
      ]
     },
     "execution_count": 62,
     "metadata": {},
     "output_type": "execute_result"
    }
   ],
   "source": [
    "tota"
   ]
  },
  {
   "cell_type": "code",
   "execution_count": 63,
   "id": "70c260e0",
   "metadata": {},
   "outputs": [],
   "source": [
    "pric = []\n",
    "pro = driver.find_elements(By.XPATH,'//p[@class=\"blackText fontSize18 blackFont white-space-no-wrap\"]')\n",
    "for i in pro:\n",
    "    pric.append(i.text[0:10])"
   ]
  },
  {
   "cell_type": "code",
   "execution_count": 64,
   "id": "22b82b68",
   "metadata": {},
   "outputs": [
    {
     "data": {
      "text/plain": [
       "0"
      ]
     },
     "execution_count": 64,
     "metadata": {},
     "output_type": "execute_result"
    }
   ],
   "source": [
    "len(pric)"
   ]
  },
  {
   "cell_type": "code",
   "execution_count": 65,
   "id": "94a2f74a",
   "metadata": {},
   "outputs": [
    {
     "data": {
      "text/plain": [
       "[]"
      ]
     },
     "execution_count": 65,
     "metadata": {},
     "output_type": "execute_result"
    }
   ],
   "source": [
    "pric"
   ]
  },
  {
   "cell_type": "raw",
   "id": "68c400f4",
   "metadata": {},
   "source": [
    "Lets fetch now with diff data"
   ]
  },
  {
   "cell_type": "code",
   "execution_count": 66,
   "id": "d1195414",
   "metadata": {},
   "outputs": [],
   "source": [
    "url = \"https://www.makemytrip.com/flight/search?tripType=O&itinerary=BLR-DXB-15/11/2022&paxType=A-1_C-0_I-0&cabinClass=E&sTime=1663835733045&forwardFlowRequired=true&mpo=&semType=&intl=true\"\n",
    "driver.get(url)"
   ]
  },
  {
   "cell_type": "code",
   "execution_count": 67,
   "id": "7727be4f",
   "metadata": {},
   "outputs": [],
   "source": [
    "namess = []\n",
    "pro = driver.find_elements(By.XPATH,'//p[@class=\"boldFont blackText airlineName\"]')\n",
    "for i in pro:\n",
    "    namess.append(i.text)\n",
    "        "
   ]
  },
  {
   "cell_type": "code",
   "execution_count": 68,
   "id": "0b2c098b",
   "metadata": {},
   "outputs": [
    {
     "data": {
      "text/plain": [
       "0"
      ]
     },
     "execution_count": 68,
     "metadata": {},
     "output_type": "execute_result"
    }
   ],
   "source": [
    "len(namess)"
   ]
  },
  {
   "cell_type": "code",
   "execution_count": 69,
   "id": "3f620eb7",
   "metadata": {},
   "outputs": [
    {
     "data": {
      "text/plain": [
       "[]"
      ]
     },
     "execution_count": 69,
     "metadata": {},
     "output_type": "execute_result"
    }
   ],
   "source": [
    "namess"
   ]
  },
  {
   "cell_type": "code",
   "execution_count": 70,
   "id": "f9284d9c",
   "metadata": {},
   "outputs": [],
   "source": [
    "depa = []\n",
    "pro = driver.find_elements(By.XPATH,'//div[@class=\"flexOne timeInfoLeft\"]')\n",
    "for i in pro:\n",
    "    depa.append(i.text[0:5])\n",
    "        "
   ]
  },
  {
   "cell_type": "code",
   "execution_count": 71,
   "id": "4de99a86",
   "metadata": {},
   "outputs": [
    {
     "data": {
      "text/plain": [
       "0"
      ]
     },
     "execution_count": 71,
     "metadata": {},
     "output_type": "execute_result"
    }
   ],
   "source": [
    "len(depa)"
   ]
  },
  {
   "cell_type": "code",
   "execution_count": 72,
   "id": "19c6cce9",
   "metadata": {},
   "outputs": [
    {
     "data": {
      "text/plain": [
       "[]"
      ]
     },
     "execution_count": 72,
     "metadata": {},
     "output_type": "execute_result"
    }
   ],
   "source": [
    "depa"
   ]
  },
  {
   "cell_type": "code",
   "execution_count": 73,
   "id": "6817d720",
   "metadata": {},
   "outputs": [],
   "source": [
    "arriva = []\n",
    "pro = driver.find_elements(By.XPATH,'//div[@class=\"flexOne timeInfoRight\"]')\n",
    "for i in pro:\n",
    "    arriva.append(i.text[0:5])\n",
    "        "
   ]
  },
  {
   "cell_type": "code",
   "execution_count": 74,
   "id": "2d71bf32",
   "metadata": {},
   "outputs": [
    {
     "data": {
      "text/plain": [
       "0"
      ]
     },
     "execution_count": 74,
     "metadata": {},
     "output_type": "execute_result"
    }
   ],
   "source": [
    "len(arriva)"
   ]
  },
  {
   "cell_type": "code",
   "execution_count": 75,
   "id": "a0da2632",
   "metadata": {},
   "outputs": [
    {
     "data": {
      "text/plain": [
       "[]"
      ]
     },
     "execution_count": 75,
     "metadata": {},
     "output_type": "execute_result"
    }
   ],
   "source": [
    "arriva"
   ]
  },
  {
   "cell_type": "code",
   "execution_count": 76,
   "id": "1bafa6ca",
   "metadata": {},
   "outputs": [],
   "source": [
    "sourc = []\n",
    "pro = driver.find_elements(By.XPATH,'//div[@class=\"flexOne timeInfoLeft\"]')\n",
    "for i in pro:\n",
    "    sourc.append(i.text[6:])\n",
    "        "
   ]
  },
  {
   "cell_type": "code",
   "execution_count": 77,
   "id": "829ac0ac",
   "metadata": {},
   "outputs": [
    {
     "data": {
      "text/plain": [
       "0"
      ]
     },
     "execution_count": 77,
     "metadata": {},
     "output_type": "execute_result"
    }
   ],
   "source": [
    "len(sourc)"
   ]
  },
  {
   "cell_type": "code",
   "execution_count": 78,
   "id": "0177ba50",
   "metadata": {},
   "outputs": [
    {
     "data": {
      "text/plain": [
       "[]"
      ]
     },
     "execution_count": 78,
     "metadata": {},
     "output_type": "execute_result"
    }
   ],
   "source": [
    "sourc"
   ]
  },
  {
   "cell_type": "code",
   "execution_count": 79,
   "id": "f38c213b",
   "metadata": {},
   "outputs": [],
   "source": [
    "Destina = []\n",
    "pro = driver.find_elements(By.XPATH,'//div[@class=\"flexOne timeInfoRight\"]')\n",
    "for i in pro:\n",
    "    Destina.append(i.text[6:20])"
   ]
  },
  {
   "cell_type": "code",
   "execution_count": 80,
   "id": "ef3daf0a",
   "metadata": {},
   "outputs": [
    {
     "data": {
      "text/plain": [
       "0"
      ]
     },
     "execution_count": 80,
     "metadata": {},
     "output_type": "execute_result"
    }
   ],
   "source": [
    "len(Destina)"
   ]
  },
  {
   "cell_type": "code",
   "execution_count": 81,
   "id": "ed88a955",
   "metadata": {},
   "outputs": [
    {
     "data": {
      "text/plain": [
       "[]"
      ]
     },
     "execution_count": 81,
     "metadata": {},
     "output_type": "execute_result"
    }
   ],
   "source": [
    "Destina"
   ]
  },
  {
   "cell_type": "code",
   "execution_count": 82,
   "id": "23655353",
   "metadata": {},
   "outputs": [],
   "source": [
    "stopss = []\n",
    "pro = driver.find_elements(By.XPATH,'//p[@class=\"flightsLayoverInfo\"]')\n",
    "for i in pro:\n",
    "    stopss.append(i.text[0:7])\n",
    "        "
   ]
  },
  {
   "cell_type": "code",
   "execution_count": 83,
   "id": "23cd9cce",
   "metadata": {},
   "outputs": [
    {
     "data": {
      "text/plain": [
       "0"
      ]
     },
     "execution_count": 83,
     "metadata": {},
     "output_type": "execute_result"
    }
   ],
   "source": [
    "len(stopss)"
   ]
  },
  {
   "cell_type": "code",
   "execution_count": 84,
   "id": "3a011abc",
   "metadata": {},
   "outputs": [
    {
     "data": {
      "text/plain": [
       "[]"
      ]
     },
     "execution_count": 84,
     "metadata": {},
     "output_type": "execute_result"
    }
   ],
   "source": [
    "stopss"
   ]
  },
  {
   "cell_type": "code",
   "execution_count": 85,
   "id": "9aa869c1",
   "metadata": {},
   "outputs": [],
   "source": [
    "airli = []\n",
    "pro = driver.find_elements(By.XPATH,'//p[@class=\"flightsLayoverInfo\"]')\n",
    "for i in pro:\n",
    "    airli.append(i.text[11:])\n",
    "        "
   ]
  },
  {
   "cell_type": "code",
   "execution_count": 86,
   "id": "e1678e5a",
   "metadata": {},
   "outputs": [
    {
     "data": {
      "text/plain": [
       "0"
      ]
     },
     "execution_count": 86,
     "metadata": {},
     "output_type": "execute_result"
    }
   ],
   "source": [
    "len(airli)"
   ]
  },
  {
   "cell_type": "code",
   "execution_count": 87,
   "id": "6a1e3c4c",
   "metadata": {},
   "outputs": [
    {
     "data": {
      "text/plain": [
       "[]"
      ]
     },
     "execution_count": 87,
     "metadata": {},
     "output_type": "execute_result"
    }
   ],
   "source": [
    "airli"
   ]
  },
  {
   "cell_type": "code",
   "execution_count": 88,
   "id": "caa50cda",
   "metadata": {},
   "outputs": [],
   "source": [
    "total = []\n",
    "pro = driver.find_elements(By.XPATH,'//div[@class=\"stop-info flexOne\"]')\n",
    "for i in pro:\n",
    "    total.append(i.text[0:7])"
   ]
  },
  {
   "cell_type": "code",
   "execution_count": 89,
   "id": "98840da2",
   "metadata": {},
   "outputs": [
    {
     "data": {
      "text/plain": [
       "0"
      ]
     },
     "execution_count": 89,
     "metadata": {},
     "output_type": "execute_result"
    }
   ],
   "source": [
    "len(total)"
   ]
  },
  {
   "cell_type": "code",
   "execution_count": 90,
   "id": "7ea57024",
   "metadata": {},
   "outputs": [
    {
     "data": {
      "text/plain": [
       "[]"
      ]
     },
     "execution_count": 90,
     "metadata": {},
     "output_type": "execute_result"
    }
   ],
   "source": [
    "total"
   ]
  },
  {
   "cell_type": "code",
   "execution_count": 91,
   "id": "f6a8e827",
   "metadata": {},
   "outputs": [],
   "source": [
    "price = []\n",
    "pro = driver.find_elements(By.XPATH,'//p[@class=\"blackText fontSize18 blackFont white-space-no-wrap\"]')\n",
    "for i in pro:\n",
    "    price.append(i.text[0:10])"
   ]
  },
  {
   "cell_type": "code",
   "execution_count": 92,
   "id": "6359791f",
   "metadata": {},
   "outputs": [
    {
     "data": {
      "text/plain": [
       "0"
      ]
     },
     "execution_count": 92,
     "metadata": {},
     "output_type": "execute_result"
    }
   ],
   "source": [
    "len(price)"
   ]
  },
  {
   "cell_type": "code",
   "execution_count": 93,
   "id": "b236639b",
   "metadata": {},
   "outputs": [
    {
     "data": {
      "text/plain": [
       "[]"
      ]
     },
     "execution_count": 93,
     "metadata": {},
     "output_type": "execute_result"
    }
   ],
   "source": [
    "price"
   ]
  },
  {
   "cell_type": "raw",
   "id": "7b099147",
   "metadata": {},
   "source": [
    "Lets fetch with some diff dates and with some diff data"
   ]
  },
  {
   "cell_type": "code",
   "execution_count": 94,
   "id": "01b0ecc6",
   "metadata": {},
   "outputs": [],
   "source": [
    "url = \"https://www.makemytrip.com/flight/search?tripType=O&itinerary=BLR-NYC-07/11/2022&paxType=A-1_C-0_I-0&cabinClass=E&sTime=1663843777585&forwardFlowRequired=true&mpo=&semType=&intl=true\"\n",
    "driver.get(url)"
   ]
  },
  {
   "cell_type": "code",
   "execution_count": 95,
   "id": "e688faa2",
   "metadata": {},
   "outputs": [],
   "source": [
    "namesa = []\n",
    "pro = driver.find_elements(By.XPATH,'//p[@class=\"boldFont blackText airlineName\"]')\n",
    "for i in pro:\n",
    "    namesa.append(i.text)\n",
    "        \n",
    " "
   ]
  },
  {
   "cell_type": "code",
   "execution_count": 96,
   "id": "2a86e2d5",
   "metadata": {},
   "outputs": [
    {
     "data": {
      "text/plain": [
       "0"
      ]
     },
     "execution_count": 96,
     "metadata": {},
     "output_type": "execute_result"
    }
   ],
   "source": [
    "len(namesa)"
   ]
  },
  {
   "cell_type": "code",
   "execution_count": 97,
   "id": "17eda1e7",
   "metadata": {},
   "outputs": [
    {
     "data": {
      "text/plain": [
       "[]"
      ]
     },
     "execution_count": 97,
     "metadata": {},
     "output_type": "execute_result"
    }
   ],
   "source": [
    "namesa"
   ]
  },
  {
   "cell_type": "code",
   "execution_count": 98,
   "id": "0a93b250",
   "metadata": {},
   "outputs": [],
   "source": [
    "depar = []\n",
    "pro = driver.find_elements(By.XPATH,'//div[@class=\"flexOne timeInfoLeft\"]')\n",
    "for i in pro:\n",
    "    depar.append(i.text[0:5])\n",
    "        "
   ]
  },
  {
   "cell_type": "code",
   "execution_count": 99,
   "id": "01b36da1",
   "metadata": {},
   "outputs": [
    {
     "data": {
      "text/plain": [
       "0"
      ]
     },
     "execution_count": 99,
     "metadata": {},
     "output_type": "execute_result"
    }
   ],
   "source": [
    "len(depar)"
   ]
  },
  {
   "cell_type": "code",
   "execution_count": 100,
   "id": "afd1606e",
   "metadata": {},
   "outputs": [
    {
     "data": {
      "text/plain": [
       "[]"
      ]
     },
     "execution_count": 100,
     "metadata": {},
     "output_type": "execute_result"
    }
   ],
   "source": [
    "depar"
   ]
  },
  {
   "cell_type": "code",
   "execution_count": 101,
   "id": "87a61280",
   "metadata": {},
   "outputs": [],
   "source": [
    "arrival = []\n",
    "pro = driver.find_elements(By.XPATH,'//div[@class=\"flexOne timeInfoRight\"]')\n",
    "for i in pro:\n",
    "    arrival.append(i.text[0:5])\n",
    "        \n",
    " "
   ]
  },
  {
   "cell_type": "code",
   "execution_count": 102,
   "id": "f30902a4",
   "metadata": {},
   "outputs": [
    {
     "data": {
      "text/plain": [
       "0"
      ]
     },
     "execution_count": 102,
     "metadata": {},
     "output_type": "execute_result"
    }
   ],
   "source": [
    "len(arrival)"
   ]
  },
  {
   "cell_type": "code",
   "execution_count": 103,
   "id": "cf59e4d0",
   "metadata": {},
   "outputs": [
    {
     "data": {
      "text/plain": [
       "[]"
      ]
     },
     "execution_count": 103,
     "metadata": {},
     "output_type": "execute_result"
    }
   ],
   "source": [
    "arrival"
   ]
  },
  {
   "cell_type": "code",
   "execution_count": 104,
   "id": "73a8feca",
   "metadata": {},
   "outputs": [],
   "source": [
    "\n",
    "source = []\n",
    "pro = driver.find_elements(By.XPATH,'//div[@class=\"flexOne timeInfoLeft\"]')\n",
    "for i in pro:\n",
    "    source.append(i.text[6:])\n",
    "        \n",
    " "
   ]
  },
  {
   "cell_type": "code",
   "execution_count": 105,
   "id": "5abd0656",
   "metadata": {},
   "outputs": [
    {
     "data": {
      "text/plain": [
       "0"
      ]
     },
     "execution_count": 105,
     "metadata": {},
     "output_type": "execute_result"
    }
   ],
   "source": [
    "len(source)"
   ]
  },
  {
   "cell_type": "code",
   "execution_count": 106,
   "id": "5c42a364",
   "metadata": {},
   "outputs": [
    {
     "data": {
      "text/plain": [
       "[]"
      ]
     },
     "execution_count": 106,
     "metadata": {},
     "output_type": "execute_result"
    }
   ],
   "source": [
    "source"
   ]
  },
  {
   "cell_type": "code",
   "execution_count": 107,
   "id": "d75d4e1f",
   "metadata": {},
   "outputs": [],
   "source": [
    "Destinat = []\n",
    "pro = driver.find_elements(By.XPATH,'//div[@class=\"flexOne timeInfoRight\"]')\n",
    "for i in pro:\n",
    "    Destinat.append(i.text[6:20])\n",
    "        "
   ]
  },
  {
   "cell_type": "code",
   "execution_count": 108,
   "id": "e539135e",
   "metadata": {},
   "outputs": [
    {
     "data": {
      "text/plain": [
       "0"
      ]
     },
     "execution_count": 108,
     "metadata": {},
     "output_type": "execute_result"
    }
   ],
   "source": [
    "len(Destinat)"
   ]
  },
  {
   "cell_type": "code",
   "execution_count": 109,
   "id": "6d883c6c",
   "metadata": {},
   "outputs": [
    {
     "data": {
      "text/plain": [
       "[]"
      ]
     },
     "execution_count": 109,
     "metadata": {},
     "output_type": "execute_result"
    }
   ],
   "source": [
    "Destinat"
   ]
  },
  {
   "cell_type": "code",
   "execution_count": 110,
   "id": "472aa697",
   "metadata": {},
   "outputs": [],
   "source": [
    "stopsa = []\n",
    "pro = driver.find_elements(By.XPATH,'//p[@class=\"flightsLayoverInfo\"]')\n",
    "for i in pro:\n",
    "    stopsa.append(i.text[0:7])\n",
    "        "
   ]
  },
  {
   "cell_type": "code",
   "execution_count": 111,
   "id": "1fadc9d6",
   "metadata": {},
   "outputs": [
    {
     "data": {
      "text/plain": [
       "0"
      ]
     },
     "execution_count": 111,
     "metadata": {},
     "output_type": "execute_result"
    }
   ],
   "source": [
    "len(stopsa)"
   ]
  },
  {
   "cell_type": "code",
   "execution_count": 112,
   "id": "012ab37c",
   "metadata": {},
   "outputs": [
    {
     "data": {
      "text/plain": [
       "[]"
      ]
     },
     "execution_count": 112,
     "metadata": {},
     "output_type": "execute_result"
    }
   ],
   "source": [
    "stopsa"
   ]
  },
  {
   "cell_type": "code",
   "execution_count": 113,
   "id": "cd927ee6",
   "metadata": {},
   "outputs": [],
   "source": [
    "airlin = []\n",
    "pro = driver.find_elements(By.XPATH,'//p[@class=\"flightsLayoverInfo\"]')\n",
    "for i in pro:\n",
    "    airlin.append(i.text[11:])\n",
    "        "
   ]
  },
  {
   "cell_type": "code",
   "execution_count": 114,
   "id": "537c5014",
   "metadata": {},
   "outputs": [
    {
     "data": {
      "text/plain": [
       "0"
      ]
     },
     "execution_count": 114,
     "metadata": {},
     "output_type": "execute_result"
    }
   ],
   "source": [
    "len(airlin)"
   ]
  },
  {
   "cell_type": "code",
   "execution_count": 115,
   "id": "3ce951ff",
   "metadata": {},
   "outputs": [
    {
     "data": {
      "text/plain": [
       "[]"
      ]
     },
     "execution_count": 115,
     "metadata": {},
     "output_type": "execute_result"
    }
   ],
   "source": [
    "airlin"
   ]
  },
  {
   "cell_type": "code",
   "execution_count": 116,
   "id": "06d62cba",
   "metadata": {},
   "outputs": [],
   "source": [
    "totala = []\n",
    "pro = driver.find_elements(By.XPATH,'//div[@class=\"stop-info flexOne\"]')\n",
    "for i in pro:\n",
    "    totala.append(i.text[0:7])"
   ]
  },
  {
   "cell_type": "code",
   "execution_count": 117,
   "id": "b3ad9d46",
   "metadata": {},
   "outputs": [
    {
     "data": {
      "text/plain": [
       "0"
      ]
     },
     "execution_count": 117,
     "metadata": {},
     "output_type": "execute_result"
    }
   ],
   "source": [
    "len(totala)"
   ]
  },
  {
   "cell_type": "code",
   "execution_count": 118,
   "id": "a75210d2",
   "metadata": {},
   "outputs": [
    {
     "data": {
      "text/plain": [
       "[]"
      ]
     },
     "execution_count": 118,
     "metadata": {},
     "output_type": "execute_result"
    }
   ],
   "source": [
    "totala"
   ]
  },
  {
   "cell_type": "code",
   "execution_count": 119,
   "id": "d3f44f5d",
   "metadata": {},
   "outputs": [],
   "source": [
    "pricea = []\n",
    "pro = driver.find_elements(By.XPATH,'//p[@class=\"blackText fontSize18 blackFont white-space-no-wrap\"]')\n",
    "for i in pro:\n",
    "    pricea.append(i.text[0:10])"
   ]
  },
  {
   "cell_type": "code",
   "execution_count": 120,
   "id": "8618e400",
   "metadata": {},
   "outputs": [
    {
     "data": {
      "text/plain": [
       "0"
      ]
     },
     "execution_count": 120,
     "metadata": {},
     "output_type": "execute_result"
    }
   ],
   "source": [
    "len(pricea)"
   ]
  },
  {
   "cell_type": "code",
   "execution_count": 121,
   "id": "8551f638",
   "metadata": {},
   "outputs": [
    {
     "data": {
      "text/plain": [
       "[]"
      ]
     },
     "execution_count": 121,
     "metadata": {},
     "output_type": "execute_result"
    }
   ],
   "source": [
    "pricea"
   ]
  },
  {
   "cell_type": "raw",
   "id": "156f38a7",
   "metadata": {},
   "source": [
    "lets first merge these data\n",
    "name"
   ]
  },
  {
   "cell_type": "code",
   "execution_count": 122,
   "id": "47677dfc",
   "metadata": {},
   "outputs": [],
   "source": [
    "namesa.extend(name)"
   ]
  },
  {
   "cell_type": "code",
   "execution_count": 123,
   "id": "dd6e3b5f",
   "metadata": {},
   "outputs": [
    {
     "data": {
      "text/plain": [
       "0"
      ]
     },
     "execution_count": 123,
     "metadata": {},
     "output_type": "execute_result"
    }
   ],
   "source": [
    "len(namesa)"
   ]
  },
  {
   "cell_type": "code",
   "execution_count": 124,
   "id": "db07337b",
   "metadata": {},
   "outputs": [],
   "source": [
    "namesa.extend(names)"
   ]
  },
  {
   "cell_type": "code",
   "execution_count": 125,
   "id": "ee2b517a",
   "metadata": {},
   "outputs": [
    {
     "data": {
      "text/plain": [
       "0"
      ]
     },
     "execution_count": 125,
     "metadata": {},
     "output_type": "execute_result"
    }
   ],
   "source": [
    "len(namesa)"
   ]
  },
  {
   "cell_type": "code",
   "execution_count": 126,
   "id": "a3b71e36",
   "metadata": {},
   "outputs": [
    {
     "name": "stdout",
     "output_type": "stream",
     "text": [
      "[]\n"
     ]
    }
   ],
   "source": [
    "namesa.extend(namess)\n",
    "print(namesa)"
   ]
  },
  {
   "cell_type": "code",
   "execution_count": 127,
   "id": "5e74581a",
   "metadata": {},
   "outputs": [
    {
     "data": {
      "text/plain": [
       "0"
      ]
     },
     "execution_count": 127,
     "metadata": {},
     "output_type": "execute_result"
    }
   ],
   "source": [
    "len(namesa)"
   ]
  },
  {
   "cell_type": "raw",
   "id": "c4add7d8",
   "metadata": {},
   "source": [
    "departure"
   ]
  },
  {
   "cell_type": "code",
   "execution_count": 128,
   "id": "3c2d6a36",
   "metadata": {},
   "outputs": [],
   "source": [
    "depar.extend(dep)"
   ]
  },
  {
   "cell_type": "code",
   "execution_count": 129,
   "id": "4d5e010c",
   "metadata": {},
   "outputs": [],
   "source": [
    "depar.extend(deps)"
   ]
  },
  {
   "cell_type": "code",
   "execution_count": 130,
   "id": "cda1763b",
   "metadata": {},
   "outputs": [],
   "source": [
    "depar.extend(depa)"
   ]
  },
  {
   "cell_type": "code",
   "execution_count": 131,
   "id": "fb6fc0a1",
   "metadata": {},
   "outputs": [
    {
     "data": {
      "text/plain": [
       "0"
      ]
     },
     "execution_count": 131,
     "metadata": {},
     "output_type": "execute_result"
    }
   ],
   "source": [
    "len(depar)"
   ]
  },
  {
   "cell_type": "code",
   "execution_count": 132,
   "id": "50b1114b",
   "metadata": {},
   "outputs": [
    {
     "name": "stdout",
     "output_type": "stream",
     "text": [
      "[]\n"
     ]
    }
   ],
   "source": [
    "print(depar)"
   ]
  },
  {
   "cell_type": "raw",
   "id": "ebe315c9",
   "metadata": {},
   "source": [
    "Arrival time"
   ]
  },
  {
   "cell_type": "code",
   "execution_count": 133,
   "id": "c61ef13d",
   "metadata": {},
   "outputs": [],
   "source": [
    "arrival.extend(arri)"
   ]
  },
  {
   "cell_type": "code",
   "execution_count": 134,
   "id": "164aa807",
   "metadata": {},
   "outputs": [],
   "source": [
    "arrival.extend(arriv)"
   ]
  },
  {
   "cell_type": "code",
   "execution_count": 135,
   "id": "7d0718c5",
   "metadata": {},
   "outputs": [],
   "source": [
    "arrival.extend(arriva)"
   ]
  },
  {
   "cell_type": "code",
   "execution_count": 136,
   "id": "a30da114",
   "metadata": {},
   "outputs": [
    {
     "data": {
      "text/plain": [
       "0"
      ]
     },
     "execution_count": 136,
     "metadata": {},
     "output_type": "execute_result"
    }
   ],
   "source": [
    "len(arrival)"
   ]
  },
  {
   "cell_type": "code",
   "execution_count": 137,
   "id": "0172d56d",
   "metadata": {},
   "outputs": [
    {
     "data": {
      "text/plain": [
       "[]"
      ]
     },
     "execution_count": 137,
     "metadata": {},
     "output_type": "execute_result"
    }
   ],
   "source": [
    "arrival"
   ]
  },
  {
   "cell_type": "raw",
   "id": "f7da1c03",
   "metadata": {},
   "source": [
    "Source"
   ]
  },
  {
   "cell_type": "code",
   "execution_count": 138,
   "id": "7fa95f14",
   "metadata": {},
   "outputs": [],
   "source": [
    "source.extend(sou)"
   ]
  },
  {
   "cell_type": "code",
   "execution_count": 139,
   "id": "dd6358b9",
   "metadata": {},
   "outputs": [],
   "source": [
    "source.extend(sour)"
   ]
  },
  {
   "cell_type": "code",
   "execution_count": 140,
   "id": "8973735d",
   "metadata": {},
   "outputs": [],
   "source": [
    "source.extend(sourc)"
   ]
  },
  {
   "cell_type": "code",
   "execution_count": 141,
   "id": "08a9f898",
   "metadata": {},
   "outputs": [
    {
     "data": {
      "text/plain": [
       "0"
      ]
     },
     "execution_count": 141,
     "metadata": {},
     "output_type": "execute_result"
    }
   ],
   "source": [
    "len(source)"
   ]
  },
  {
   "cell_type": "code",
   "execution_count": 142,
   "id": "3bcd6cb6",
   "metadata": {},
   "outputs": [
    {
     "data": {
      "text/plain": [
       "[]"
      ]
     },
     "execution_count": 142,
     "metadata": {},
     "output_type": "execute_result"
    }
   ],
   "source": [
    "source"
   ]
  },
  {
   "cell_type": "raw",
   "id": "7ea69bee",
   "metadata": {},
   "source": [
    "Destination"
   ]
  },
  {
   "cell_type": "code",
   "execution_count": 143,
   "id": "e92fa21b",
   "metadata": {},
   "outputs": [],
   "source": [
    "Destinat.extend(Desti)"
   ]
  },
  {
   "cell_type": "code",
   "execution_count": 144,
   "id": "168fa516",
   "metadata": {},
   "outputs": [],
   "source": [
    "Destinat.extend(Destin)"
   ]
  },
  {
   "cell_type": "code",
   "execution_count": 145,
   "id": "24306cb5",
   "metadata": {},
   "outputs": [],
   "source": [
    "Destinat.extend(Destina)"
   ]
  },
  {
   "cell_type": "code",
   "execution_count": 146,
   "id": "afc14af9",
   "metadata": {},
   "outputs": [
    {
     "data": {
      "text/plain": [
       "0"
      ]
     },
     "execution_count": 146,
     "metadata": {},
     "output_type": "execute_result"
    }
   ],
   "source": [
    "len(Destinat)"
   ]
  },
  {
   "cell_type": "code",
   "execution_count": 147,
   "id": "34d64c23",
   "metadata": {},
   "outputs": [
    {
     "data": {
      "text/plain": [
       "[]"
      ]
     },
     "execution_count": 147,
     "metadata": {},
     "output_type": "execute_result"
    }
   ],
   "source": [
    "Destinat"
   ]
  },
  {
   "cell_type": "raw",
   "id": "948faa3b",
   "metadata": {},
   "source": [
    "Total stop"
   ]
  },
  {
   "cell_type": "code",
   "execution_count": 148,
   "id": "ccd23ebb",
   "metadata": {},
   "outputs": [],
   "source": [
    "stopsa.extend(stop)"
   ]
  },
  {
   "cell_type": "code",
   "execution_count": 149,
   "id": "4f2645ba",
   "metadata": {},
   "outputs": [],
   "source": [
    "stopsa.extend(stops)"
   ]
  },
  {
   "cell_type": "code",
   "execution_count": 150,
   "id": "15e9ab86",
   "metadata": {},
   "outputs": [],
   "source": [
    "stopsa.extend(stopss)"
   ]
  },
  {
   "cell_type": "code",
   "execution_count": 151,
   "id": "03d5e0f3",
   "metadata": {},
   "outputs": [
    {
     "data": {
      "text/plain": [
       "0"
      ]
     },
     "execution_count": 151,
     "metadata": {},
     "output_type": "execute_result"
    }
   ],
   "source": [
    "len(stopsa)"
   ]
  },
  {
   "cell_type": "code",
   "execution_count": 152,
   "id": "681e9733",
   "metadata": {},
   "outputs": [
    {
     "data": {
      "text/plain": [
       "[]"
      ]
     },
     "execution_count": 152,
     "metadata": {},
     "output_type": "execute_result"
    }
   ],
   "source": [
    "stopsa"
   ]
  },
  {
   "cell_type": "raw",
   "id": "aa5cb6c8",
   "metadata": {},
   "source": [
    "Stoppping airports"
   ]
  },
  {
   "cell_type": "code",
   "execution_count": 153,
   "id": "62d4db7d",
   "metadata": {},
   "outputs": [],
   "source": [
    "airlin.extend(air)"
   ]
  },
  {
   "cell_type": "code",
   "execution_count": 154,
   "id": "35dc762b",
   "metadata": {},
   "outputs": [],
   "source": [
    "airlin.extend(airl)"
   ]
  },
  {
   "cell_type": "code",
   "execution_count": 155,
   "id": "9db28e17",
   "metadata": {},
   "outputs": [],
   "source": [
    "airlin.extend(airl)"
   ]
  },
  {
   "cell_type": "code",
   "execution_count": 156,
   "id": "357e4cfb",
   "metadata": {},
   "outputs": [
    {
     "data": {
      "text/plain": [
       "0"
      ]
     },
     "execution_count": 156,
     "metadata": {},
     "output_type": "execute_result"
    }
   ],
   "source": [
    "len(airlin)"
   ]
  },
  {
   "cell_type": "code",
   "execution_count": 157,
   "id": "1d92dfbe",
   "metadata": {},
   "outputs": [
    {
     "data": {
      "text/plain": [
       "[]"
      ]
     },
     "execution_count": 157,
     "metadata": {},
     "output_type": "execute_result"
    }
   ],
   "source": [
    "airlin"
   ]
  },
  {
   "cell_type": "raw",
   "id": "5c514ef7",
   "metadata": {},
   "source": [
    "Fair Price"
   ]
  },
  {
   "cell_type": "code",
   "execution_count": 158,
   "id": "be91eebc",
   "metadata": {},
   "outputs": [],
   "source": [
    "pricea.extend(pri)"
   ]
  },
  {
   "cell_type": "code",
   "execution_count": 159,
   "id": "dcb10fe4",
   "metadata": {},
   "outputs": [],
   "source": [
    "pricea.extend(pric)"
   ]
  },
  {
   "cell_type": "code",
   "execution_count": 160,
   "id": "c8433896",
   "metadata": {},
   "outputs": [],
   "source": [
    "pricea.extend(price)"
   ]
  },
  {
   "cell_type": "code",
   "execution_count": 161,
   "id": "71c1f19c",
   "metadata": {},
   "outputs": [
    {
     "data": {
      "text/plain": [
       "0"
      ]
     },
     "execution_count": 161,
     "metadata": {},
     "output_type": "execute_result"
    }
   ],
   "source": [
    "len(pricea)"
   ]
  },
  {
   "cell_type": "code",
   "execution_count": 162,
   "id": "06a69b12",
   "metadata": {},
   "outputs": [
    {
     "data": {
      "text/plain": [
       "[]"
      ]
     },
     "execution_count": 162,
     "metadata": {},
     "output_type": "execute_result"
    }
   ],
   "source": [
    "pricea"
   ]
  }
 ],
 "metadata": {
  "kernelspec": {
   "display_name": "Python 3 (ipykernel)",
   "language": "python",
   "name": "python3"
  },
  "language_info": {
   "codemirror_mode": {
    "name": "ipython",
    "version": 3
   },
   "file_extension": ".py",
   "mimetype": "text/x-python",
   "name": "python",
   "nbconvert_exporter": "python",
   "pygments_lexer": "ipython3",
   "version": "3.9.12"
  }
 },
 "nbformat": 4,
 "nbformat_minor": 5
}
